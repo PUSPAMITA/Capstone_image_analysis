{
  "nbformat": 4,
  "nbformat_minor": 0,
  "metadata": {
    "colab": {
      "provenance": []
    },
    "kernelspec": {
      "name": "python3",
      "display_name": "Python 3"
    },
    "language_info": {
      "name": "python"
    }
  },
  "cells": [
    {
      "cell_type": "code",
      "source": [
        "from google.colab import drive\n",
        "drive.mount('/content/drive')"
      ],
      "metadata": {
        "colab": {
          "base_uri": "https://localhost:8080/"
        },
        "id": "1dTZCQOlStSm",
        "outputId": "0e38361f-a4ea-464c-bb41-a9655faf5302"
      },
      "execution_count": null,
      "outputs": [
        {
          "output_type": "stream",
          "name": "stdout",
          "text": [
            "Mounted at /content/drive\n"
          ]
        }
      ]
    },
    {
      "cell_type": "code",
      "source": [
        "import os\n",
        "from os import listdir\n",
        "import random as rd\n",
        "import nibabel as nib\n",
        "import numpy as np\n",
        "\n"
      ],
      "metadata": {
        "id": "vuIg4wvvUlL4"
      },
      "execution_count": null,
      "outputs": []
    },
    {
      "cell_type": "code",
      "source": [
        "x=[]\n",
        "y=[]\n",
        "train_data=r'/content/drive/MyDrive/TRAINING DATA'\n",
        "k=0\n",
        "d=()\n",
        "for data in os.listdir(train_data):\n",
        "    if data.startswith(\"C\"):\n",
        "      x.append(1)\n",
        "      y.append(1)\n",
        "    elif data.startswith(\"l\"):\n",
        "      x.append(2)\n",
        "      y.append(2)\n",
        "    elif data.startswith(\"hippo\"):\n",
        "      x.append(3)\n",
        "      y.append(3)\n",
        "    else:\n",
        "      x.append(4)\n",
        "      y.append(4)\n",
        "    k+=1\n",
        "traindat=[]\n",
        "for i in range (k):\n",
        "  d=(x[i],y[i])\n",
        "  print(d)\n",
        "  traindat.append(d)"
      ],
      "metadata": {
        "colab": {
          "base_uri": "https://localhost:8080/"
        },
        "id": "J4TTmk_zT02Q",
        "outputId": "fcedc59d-3dd8-4194-9316-5de9fa314a2e"
      },
      "execution_count": null,
      "outputs": [
        {
          "output_type": "stream",
          "name": "stdout",
          "text": [
            "(1, 1)\n",
            "(2, 2)\n",
            "(3, 3)\n",
            "(4, 4)\n",
            "(4, 4)\n",
            "(4, 4)\n"
          ]
        }
      ]
    },
    {
      "cell_type": "code",
      "source": [
        "print([x,y])\n",
        "print(traindat)\n",
        "traindat=np.array(traindat)\n",
        "print(traindat)"
      ],
      "metadata": {
        "colab": {
          "base_uri": "https://localhost:8080/"
        },
        "id": "-calZvEmVxY_",
        "outputId": "d2910a3a-ffd1-4b38-fd0b-eb7331e29c84"
      },
      "execution_count": null,
      "outputs": [
        {
          "output_type": "stream",
          "name": "stdout",
          "text": [
            "[[1, 2, 3, 4, 4, 4], [1, 2, 3, 4, 4, 4]]\n",
            "[(1, 1), (2, 2), (3, 3), (4, 4), (4, 4), (4, 4)]\n",
            "[[1 1]\n",
            " [2 2]\n",
            " [3 3]\n",
            " [4 4]\n",
            " [4 4]\n",
            " [4 4]]\n"
          ]
        }
      ]
    },
    {
      "cell_type": "code",
      "source": [
        "import sklearn\n",
        "from sklearn.naive_bayes import GaussianNB\n",
        "cls=[1,2,3,4,5,6]\n",
        "clf= GaussianNB()\n",
        "clf.fit(traindat,cls)\n",
        "GaussianNB()\n"
      ],
      "metadata": {
        "colab": {
          "base_uri": "https://localhost:8080/",
          "height": 74
        },
        "id": "WUX3Fo-zXLQS",
        "outputId": "cfef5f35-c45a-4183-9cca-51599c13e814"
      },
      "execution_count": null,
      "outputs": [
        {
          "output_type": "execute_result",
          "data": {
            "text/plain": [
              "GaussianNB()"
            ],
            "text/html": [
              "<style>#sk-container-id-2 {color: black;background-color: white;}#sk-container-id-2 pre{padding: 0;}#sk-container-id-2 div.sk-toggleable {background-color: white;}#sk-container-id-2 label.sk-toggleable__label {cursor: pointer;display: block;width: 100%;margin-bottom: 0;padding: 0.3em;box-sizing: border-box;text-align: center;}#sk-container-id-2 label.sk-toggleable__label-arrow:before {content: \"▸\";float: left;margin-right: 0.25em;color: #696969;}#sk-container-id-2 label.sk-toggleable__label-arrow:hover:before {color: black;}#sk-container-id-2 div.sk-estimator:hover label.sk-toggleable__label-arrow:before {color: black;}#sk-container-id-2 div.sk-toggleable__content {max-height: 0;max-width: 0;overflow: hidden;text-align: left;background-color: #f0f8ff;}#sk-container-id-2 div.sk-toggleable__content pre {margin: 0.2em;color: black;border-radius: 0.25em;background-color: #f0f8ff;}#sk-container-id-2 input.sk-toggleable__control:checked~div.sk-toggleable__content {max-height: 200px;max-width: 100%;overflow: auto;}#sk-container-id-2 input.sk-toggleable__control:checked~label.sk-toggleable__label-arrow:before {content: \"▾\";}#sk-container-id-2 div.sk-estimator input.sk-toggleable__control:checked~label.sk-toggleable__label {background-color: #d4ebff;}#sk-container-id-2 div.sk-label input.sk-toggleable__control:checked~label.sk-toggleable__label {background-color: #d4ebff;}#sk-container-id-2 input.sk-hidden--visually {border: 0;clip: rect(1px 1px 1px 1px);clip: rect(1px, 1px, 1px, 1px);height: 1px;margin: -1px;overflow: hidden;padding: 0;position: absolute;width: 1px;}#sk-container-id-2 div.sk-estimator {font-family: monospace;background-color: #f0f8ff;border: 1px dotted black;border-radius: 0.25em;box-sizing: border-box;margin-bottom: 0.5em;}#sk-container-id-2 div.sk-estimator:hover {background-color: #d4ebff;}#sk-container-id-2 div.sk-parallel-item::after {content: \"\";width: 100%;border-bottom: 1px solid gray;flex-grow: 1;}#sk-container-id-2 div.sk-label:hover label.sk-toggleable__label {background-color: #d4ebff;}#sk-container-id-2 div.sk-serial::before {content: \"\";position: absolute;border-left: 1px solid gray;box-sizing: border-box;top: 0;bottom: 0;left: 50%;z-index: 0;}#sk-container-id-2 div.sk-serial {display: flex;flex-direction: column;align-items: center;background-color: white;padding-right: 0.2em;padding-left: 0.2em;position: relative;}#sk-container-id-2 div.sk-item {position: relative;z-index: 1;}#sk-container-id-2 div.sk-parallel {display: flex;align-items: stretch;justify-content: center;background-color: white;position: relative;}#sk-container-id-2 div.sk-item::before, #sk-container-id-2 div.sk-parallel-item::before {content: \"\";position: absolute;border-left: 1px solid gray;box-sizing: border-box;top: 0;bottom: 0;left: 50%;z-index: -1;}#sk-container-id-2 div.sk-parallel-item {display: flex;flex-direction: column;z-index: 1;position: relative;background-color: white;}#sk-container-id-2 div.sk-parallel-item:first-child::after {align-self: flex-end;width: 50%;}#sk-container-id-2 div.sk-parallel-item:last-child::after {align-self: flex-start;width: 50%;}#sk-container-id-2 div.sk-parallel-item:only-child::after {width: 0;}#sk-container-id-2 div.sk-dashed-wrapped {border: 1px dashed gray;margin: 0 0.4em 0.5em 0.4em;box-sizing: border-box;padding-bottom: 0.4em;background-color: white;}#sk-container-id-2 div.sk-label label {font-family: monospace;font-weight: bold;display: inline-block;line-height: 1.2em;}#sk-container-id-2 div.sk-label-container {text-align: center;}#sk-container-id-2 div.sk-container {/* jupyter's `normalize.less` sets `[hidden] { display: none; }` but bootstrap.min.css set `[hidden] { display: none !important; }` so we also need the `!important` here to be able to override the default hidden behavior on the sphinx rendered scikit-learn.org. See: https://github.com/scikit-learn/scikit-learn/issues/21755 */display: inline-block !important;position: relative;}#sk-container-id-2 div.sk-text-repr-fallback {display: none;}</style><div id=\"sk-container-id-2\" class=\"sk-top-container\"><div class=\"sk-text-repr-fallback\"><pre>GaussianNB()</pre><b>In a Jupyter environment, please rerun this cell to show the HTML representation or trust the notebook. <br />On GitHub, the HTML representation is unable to render, please try loading this page with nbviewer.org.</b></div><div class=\"sk-container\" hidden><div class=\"sk-item\"><div class=\"sk-estimator sk-toggleable\"><input class=\"sk-toggleable__control sk-hidden--visually\" id=\"sk-estimator-id-2\" type=\"checkbox\" checked><label for=\"sk-estimator-id-2\" class=\"sk-toggleable__label sk-toggleable__label-arrow\">GaussianNB</label><div class=\"sk-toggleable__content\"><pre>GaussianNB()</pre></div></div></div></div></div>"
            ]
          },
          "metadata": {},
          "execution_count": 69
        }
      ]
    },
    {
      "cell_type": "code",
      "source": [
        "test_data=r'/content/drive/MyDrive/TEST DATA'\n",
        "x_new=[]\n",
        "for data in os.listdir(test_data):\n",
        "    if data.startswith(\"C\"):\n",
        "      x.append(1)\n",
        "      y.append(1)\n",
        "    elif data.startswith(\"l\"):\n",
        "      x.append(2)\n",
        "      y.append(2)\n",
        "    elif data.startswith(\"hippo\"):\n",
        "      x.append(3)\n",
        "      y.append(3)\n",
        "    else:\n",
        "      x.append(4)\n",
        "      y.append(4)\n",
        "\n",
        "testdat=[]\n",
        "for i in range (k):\n",
        "  d=(x[i],y[i])\n",
        "  #print(d)\n",
        "  testdat.append(d)\n",
        "\n",
        "print(clf.predict(testdat))\n",
        "\n"
      ],
      "metadata": {
        "colab": {
          "base_uri": "https://localhost:8080/"
        },
        "id": "A5PyDdsbYE5q",
        "outputId": "21906951-bb2e-4966-ee27-9c259b5851ce"
      },
      "execution_count": null,
      "outputs": [
        {
          "output_type": "stream",
          "name": "stdout",
          "text": [
            "[1 2 3 4 4 4]\n"
          ]
        }
      ]
    },
    {
      "cell_type": "code",
      "source": [
        "'''\n",
        "##defining the hyper parameters\n",
        "learning_rate=0.01\n",
        "num_epochs=1000\n",
        "\n",
        "##initialization of wieghts and bias\n",
        "weight= rd.seed()\n",
        "bias= rd.seed()\n",
        "\n",
        "##training loop\n",
        "for epochs in range(num_epochs):\n",
        "  ##initializing the misclassification count\n",
        "  misclassified=0\n",
        "\n",
        "  #iterate over the training data\n",
        "  for i in range(k):\n",
        "    #calculate the perceptron output\n",
        "    z=weight*x[i]+bias\n",
        "    if z>=0:\n",
        "      predicted=1\n",
        "    else:\n",
        "      predicted=0\n",
        "    #update weights and bias if missclassified\n",
        "    if predicted!=y[i]:\n",
        "      misclassified+=1\n",
        "      if predicted==0:\n",
        "         weight=weight+x[i]*learning_rate\n",
        "         bias=bias+learning_rate\n",
        "      else:\n",
        "         weight=weight-x[i]*learning_rate\n",
        "         bias=bias-learning_rate\n",
        "'''"
      ],
      "metadata": {
        "id": "XAvt9gVtRw7A"
      },
      "execution_count": null,
      "outputs": []
    },
    {
      "cell_type": "code",
      "source": [],
      "metadata": {
        "id": "WiH5d_Jk4x3z"
      },
      "execution_count": null,
      "outputs": []
    },
    {
      "cell_type": "code",
      "source": [
        "'''\n",
        "x=[]\n",
        "y=[]\n",
        "train_data=r'/content/drive/MyDrive/TRAINING DATA'\n",
        "k=0\n",
        "for data in os.listdir(train_data):\n",
        "    if data.startswith(\"C\"):\n",
        "      x.append(data)\n",
        "      y.append(\"abdomen_ct\")\n",
        "    elif data.startswith(\"l\"):\n",
        "      x.append(data)\n",
        "      y.append(\"heart_mri\")\n",
        "    elif data.startswith(\"hippo\"):\n",
        "      x.append(data)\n",
        "      y.append(\"hippocampal_mri\")\n",
        "    else:\n",
        "      x.append(data)\n",
        "      y.append(\"prostate_mri\")\n",
        "    k+=1\n",
        "'''"
      ],
      "metadata": {
        "id": "FJvwIuZu4ybr"
      },
      "execution_count": null,
      "outputs": []
    },
    {
      "cell_type": "code",
      "source": [
        "'''\n",
        "# Python program to create\n",
        "# Image Classifier using CNN\n",
        "\n",
        "# Importing the required libraries\n",
        "import cv2\n",
        "import os\n",
        "import numpy as np\n",
        "from random import shuffle\n",
        "from tqdm import tqdm\n",
        "\n",
        "'''Setting up the env'''\n",
        "\n",
        "TRAIN_DIR = r'/content/drive/MyDrive/TRAINING DATA'\n",
        "TEST_DIR = r'/content/drive/MyDrive/TEST DATA'\n",
        "IMG_SIZE = 50\n",
        "LR = 1e-3\n",
        "\n",
        "\n",
        "'''Setting up the model which will help with tensorflow models'''\n",
        "MODEL_NAME = 'ct_vs_mri-{}-{}.model'.format(LR, '6conv-basic')\n",
        "\n",
        "'''Labelling the dataset'''\n",
        "def label_img(img):\n",
        "\t word_label = img.split('.')[-3]\n",
        "\t# DIY One hot encoder\n",
        "\t if word_label == img.startswith(\"C\"):\n",
        "    return [1,0,0,0]\n",
        "   elif word_label == img.startswith(\"l\"):\n",
        "    return [0,1,0,0]\n",
        "   elif word_label == img.startswith(\"h\"):\n",
        "    return [0,0,1,0]\n",
        "   else:\n",
        "    return[0,0,0,1]\n",
        "\n",
        "'''Creating the training data'''\n",
        "def create_train_data():\n",
        "\t# Creating an empty list where we should store the training data\n",
        "\t# after a little preprocessing of the data\n",
        "\ttraining_data = []\n",
        "\n",
        "\t# tqdm is only used for interactive loading\n",
        "\t# loading the training data\n",
        "\tfor img in tqdm(os.listdir(TRAIN_DIR)):\n",
        "\n",
        "\t\t# labeling the images\n",
        "\t\tlabel = label_img(img)\n",
        "\n",
        "\t\tpath = os.path.join(TRAIN_DIR, img)\n",
        "\n",
        "\t\t# loading the image from the path and then converting them into\n",
        "\t\t# grayscale for easier covnet prob\n",
        "\t\timg = cv2.imread(path, cv2.IMREAD_GRAYSCALE)\n",
        "\n",
        "\t\t# resizing the image for processing them in the covnet\n",
        "\t\timg = cv2.resize(img, (IMG_SIZE, IMG_SIZE))\n",
        "\n",
        "\t\t# final step-forming the training data list with numpy array of the images\n",
        "\t\ttraining_data.append([np.array(img), np.array(label)])\n",
        "\n",
        "\t# shuffling of the training data to preserve the random state of our data\n",
        "\tshuffle(training_data)\n",
        "\n",
        "\t# saving our trained data for further uses if required\n",
        "\tnp.save('train_data.npy', training_data)\n",
        "\treturn training_data\n",
        "\n",
        "'''Processing the given test data'''\n",
        "# Almost same as processing the training data but\n",
        "# we dont have to label it.\n",
        "def process_test_data():\n",
        "\ttesting_data = []\n",
        "\tfor img in tqdm(os.listdir(TEST_DIR)):\n",
        "\t\tpath = os.path.join(TEST_DIR, img)\n",
        "\t\timg_num = img.split('.')[0]\n",
        "\t\timg = cv2.imread(path, cv2.IMREAD_GRAYSCALE)\n",
        "\t\timg = cv2.resize(img, (IMG_SIZE, IMG_SIZE))\n",
        "\t\ttesting_data.append([np.array(img), img_num])\n",
        "\n",
        "\tshuffle(testing_data)\n",
        "\tnp.save('test_data.npy', testing_data)\n",
        "\treturn testing_data\n",
        "\n",
        "'''Running the training and the testing in the dataset for our model'''\n",
        "train_data = create_train_data()\n",
        "test_data = process_test_data()\n",
        "\n",
        "# train_data = np.load('train_data.npy')\n",
        "# test_data = np.load('test_data.npy')\n",
        "\n",
        "'''Creating the neural network using tensorflow'''\n",
        "# Importing the required libraries\n",
        "!pip install tflearn\n",
        "from tflearn.layers.conv import conv_2d, max_pool_2d\n",
        "from tflearn.layers.core import input_data, dropout, fully_connected\n",
        "from tflearn.layers.estimator import regression\n",
        "\n",
        "import tensorflow as tf\n",
        "tf.compat.v1.reset_default_graph()\n",
        "convnet = input_data(shape =[None, IMG_SIZE, IMG_SIZE, 1], name ='input')\n",
        "\n",
        "convnet = conv_2d(convnet, 32, 5, activation ='relu')\n",
        "convnet = max_pool_2d(convnet, 5)\n",
        "\n",
        "convnet = conv_2d(convnet, 64, 5, activation ='relu')\n",
        "convnet = max_pool_2d(convnet, 5)\n",
        "\n",
        "convnet = conv_2d(convnet, 128, 5, activation ='relu')\n",
        "convnet = max_pool_2d(convnet, 5)\n",
        "\n",
        "convnet = conv_2d(convnet, 64, 5, activation ='relu')\n",
        "convnet = max_pool_2d(convnet, 5)\n",
        "\n",
        "convnet = conv_2d(convnet, 32, 5, activation ='relu')\n",
        "convnet = max_pool_2d(convnet, 5)\n",
        "\n",
        "convnet = fully_connected(convnet, 1024, activation ='relu')\n",
        "convnet = dropout(convnet, 0.8)\n",
        "\n",
        "convnet = fully_connected(convnet, 2, activation ='softmax')\n",
        "convnet = regression(convnet, optimizer ='adam', learning_rate = LR,\n",
        "\tloss ='categorical_crossentropy', name ='targets')\n",
        "\n",
        "model = tflearn.DNN(convnet, tensorboard_dir ='log')\n",
        "\n",
        "# Splitting the testing data and training data\n",
        "train = train_data[:-500]\n",
        "test = train_data[-500:]\n",
        "\n",
        "'''Setting up the features and labels'''\n",
        "# X-Features & Y-Labels\n",
        "\n",
        "X = np.array([i[0] for i in train]).reshape(-1, IMG_SIZE, IMG_SIZE, 1)\n",
        "Y = np.array([i[1] for i in train])\n",
        "test_x = np.array([i[0] for i in test]).reshape(-1, IMG_SIZE, IMG_SIZE, 1)\n",
        "test_y = np.array([i[1] for i in test])\n",
        "\n",
        "'''Fitting the data into our model'''\n",
        "# epoch = 5 taken\n",
        "model.fit({'input': X}, {'targets': Y}, n_epoch = 5,\n",
        "\tvalidation_set =({'input': test_x}, {'targets': test_y}),\n",
        "\tsnapshot_step = 500, show_metric = True, run_id = MODEL_NAME)\n",
        "model.save(MODEL_NAME)\n",
        "\n",
        "'''Testing the data'''\n",
        "import matplotlib.pyplot as plt\n",
        "# if you need to create the data:\n",
        "# test_data = process_test_data()\n",
        "# if you already have some saved:\n",
        "test_data = np.load('test_data.npy')\n",
        "\n",
        "fig = plt.figure()\n",
        "\n",
        "for num, data in enumerate(test_data[:20]):\n",
        "\t# cat: [1, 0]\n",
        "\t# dog: [0, 1]\n",
        "\n",
        "\timg_num = data[1]\n",
        "\timg_data = data[0]\n",
        "\n",
        "\ty = fig.add_subplot(4, 5, num + 1)\n",
        "\torig = img_data\n",
        "\tdata = img_data.reshape(IMG_SIZE, IMG_SIZE, 1)\n",
        "\n",
        "\t# model_out = model.predict([data])[0]\n",
        "\tmodel_out = model.predict([data])[0]\n",
        "\n",
        "\tif np.argmax(model_out) == 1:\n",
        "    if\n",
        "    str_label ='Dog'\n",
        "\telse: str_label ='Cat'\n",
        "\n",
        "\ty.imshow(orig, cmap ='gray')\n",
        "\tplt.title(str_label)\n",
        "\ty.axes.get_xaxis().set_visible(False)\n",
        "\ty.axes.get_yaxis().set_visible(False)\n",
        "plt.show()\n",
        "'''\n"
      ],
      "metadata": {
        "colab": {
          "base_uri": "https://localhost:8080/",
          "height": 140
        },
        "id": "XSs32UmL3jsa",
        "outputId": "c621b32c-1616-4158-bb3a-7612f25f5d2f"
      },
      "execution_count": null,
      "outputs": [
        {
          "output_type": "error",
          "ename": "IndentationError",
          "evalue": "ignored",
          "traceback": [
            "\u001b[0;36m  File \u001b[0;32m\"<tokenize>\"\u001b[0;36m, line \u001b[0;32m27\u001b[0m\n\u001b[0;31m    return [1,0,0,0]\u001b[0m\n\u001b[0m    ^\u001b[0m\n\u001b[0;31mIndentationError\u001b[0m\u001b[0;31m:\u001b[0m unindent does not match any outer indentation level\n"
          ]
        }
      ]
    }
  ]
}